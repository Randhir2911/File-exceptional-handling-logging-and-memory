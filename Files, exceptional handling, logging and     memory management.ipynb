{
 "cells": [
  {
   "cell_type": "markdown",
   "metadata": {},
   "source": [
    "### 1. What is the difference between interpreted and compiled languages?\n",
    "\n",
    "**Interpreted**: Executes code line by line (e.g., Python).\n",
    "\n",
    "**Compiled**: Translates the entire code before execution (e.g., C, C++)."
   ]
  },
  {
   "cell_type": "markdown",
   "metadata": {},
   "source": [
    "### 2. What is exception handling in Python?\n",
    "\n",
    "It allows handling runtime errors using `try`, `except`, `finally`, and `else` blocks."
   ]
  },
  {
   "cell_type": "markdown",
   "metadata": {},
   "source": [
    "### 3. What is the purpose of the finally block in exception handling?\n",
    "\n",
    "Ensures code execution, regardless of whether an exception occurs."
   ]
  },
  {
   "cell_type": "markdown",
   "metadata": {},
   "source": [
    "### 4. What is logging in Python?\n",
    "\n",
    "Used to record messages for debugging and tracking program execution."
   ]
  },
  {
   "cell_type": "markdown",
   "metadata": {},
   "source": [
    "### 5. What is the significance of the __del__ method in Python?\n",
    "\n",
    "Acts as a destructor, called when an object is about to be destroyed."
   ]
  },
  {
   "cell_type": "markdown",
   "metadata": {},
   "source": [
    "### 6. What is the difference between import and from ... import in Python?\n",
    "\n",
    "`import module`: Imports the whole module.\n",
    "\n",
    "`from module import function`: Imports a specific function or class."
   ]
  },
  {
   "cell_type": "markdown",
   "metadata": {},
   "source": [
    "### 7. How can you handle multiple exceptions in Python?\n",
    "\n",
    "Use multiple `except` blocks or a single `except` with a tuple of exceptions."
   ]
  },
  {
   "cell_type": "markdown",
   "metadata": {},
   "source": [
    "### 8. What is the purpose of the with statement when handling files in Python?\n",
    "\n",
    "Ensures the file is properly closed after execution, even if an error occurs."
   ]
  },
  {
   "cell_type": "markdown",
   "metadata": {},
   "source": [
    "### 9. What is the difference between multithreading and multiprocessing?\n",
    "\n",
    "**Multithreading**: Multiple threads within the same process (shared memory).\n",
    "\n",
    "**Multiprocessing**: Multiple processes (separate memory)."
   ]
  },
  {
   "cell_type": "markdown",
   "metadata": {},
   "source": [
    "### 10. What are the advantages of using logging in a program?\n",
    "\n",
    "Debugging, error tracking, monitoring, and performance analysis."
   ]
  },
  {
   "cell_type": "markdown",
   "metadata": {},
   "source": [
    "### 11. What is memory management in Python?\n",
    "\n",
    "Uses garbage collection and dynamic memory allocation."
   ]
  },
  {
   "cell_type": "markdown",
   "metadata": {},
   "source": [
    "### 12. What are the basic steps involved in exception handling in Python?\n",
    "\n",
    "Identify risky code (`try`), handle errors (`except`), execute cleanup (`finally`)."
   ]
  },
  {
   "cell_type": "markdown",
   "metadata": {},
   "source": [
    "### 13. Why is memory management important in Python?\n",
    "\n",
    "Prevents memory leaks, improves performance, and optimizes resource usage."
   ]
  },
  {
   "cell_type": "markdown",
   "metadata": {},
   "source": [
    "### 14. What is the role of try and except in exception handling?\n",
    "\n",
    "`try`: Defines risky code.\n",
    "\n",
    "`except`: Handles exceptions that occur."
   ]
  },
  {
   "cell_type": "markdown",
   "metadata": {},
   "source": [
    "### 15. How does Python's garbage collection system work?\n",
    "\n",
    "Automatically deallocates unused objects using reference counting and cyclic garbage collection."
   ]
  },
  {
   "cell_type": "markdown",
   "metadata": {},
   "source": [
    "### 16. What is the purpose of the else block in exception handling?\n",
    "\n",
    "Executes if no exceptions occur in the `try` block."
   ]
  },
  {
   "cell_type": "markdown",
   "metadata": {},
   "source": [
    "### 17. What are the common logging levels in Python?\n",
    "\n",
    "`DEBUG`, `INFO`, `WARNING`, `ERROR`, `CRITICAL`."
   ]
  },
  {
   "cell_type": "markdown",
   "metadata": {},
   "source": [
    "### 18. What is the difference between os.fork() and multiprocessing in Python?\n",
    "\n",
    "`os.fork()`: Creates a child process (Unix only).\n",
    "\n",
    "`multiprocessing`: Works cross-platform, manages multiple processes."
   ]
  },
  {
   "cell_type": "markdown",
   "metadata": {},
   "source": [
    "### 19. What is the importance of closing a file in Python?\n",
    "\n",
    "Frees resources and prevents data corruption."
   ]
  },
  {
   "cell_type": "markdown",
   "metadata": {},
   "source": [
    "### 20. What is the difference between file.read() and file.readline() in Python?\n",
    "\n",
    "`file.read()`: Reads the entire file.\n",
    "\n",
    "`file.readline()`: Reads one line at a time."
   ]
  },
  {
   "cell_type": "markdown",
   "metadata": {},
   "source": [
    "### 21. What is the logging module in Python used for?\n",
    "\n",
    "Used for tracking events, debugging, and application monitoring."
   ]
  },
  {
   "cell_type": "markdown",
   "metadata": {},
   "source": [
    "### 22. What is the os module in Python used for in file handling?\n",
    "\n",
    "Provides functions for file operations like creating, deleting, and moving files."
   ]
  },
  {
   "cell_type": "markdown",
   "metadata": {},
   "source": [
    "### 23. What are the challenges associated with memory management in Python?\n",
    "\n",
    "Handling circular references, memory leaks, and performance optimization."
   ]
  },
  {
   "cell_type": "markdown",
   "metadata": {},
   "source": [
    "### 24. How do you raise an exception manually in Python?\n",
    "\n",
    "Use `raise Exception(\"message\")`."
   ]
  },
  {
   "cell_type": "markdown",
   "metadata": {},
   "source": [
    "### 25. Why is it important to use multithreading in certain applications?\n",
    "\n",
    "Improves performance for I/O-bound tasks like web scraping and file operations."
   ]
  },
  {
   "cell_type": "markdown",
   "id": "03b7c492",
   "metadata": {},
   "source": [
    "#### Practical Questions"
   ]
  },
  {
   "cell_type": "code",
   "execution_count": 2,
   "id": "7528b392",
   "metadata": {},
   "outputs": [],
   "source": [
    "# 1. How can you open a file for writing in Python and write a string to it?\n",
    "with open('new.txt', 'w') as f:\n",
    "    f.write('My name is Pritam\\n')"
   ]
  },
  {
   "cell_type": "code",
   "execution_count": 3,
   "id": "ca2009ca",
   "metadata": {},
   "outputs": [
    {
     "name": "stdout",
     "output_type": "stream",
     "text": [
      "My name is Pritam\n"
     ]
    }
   ],
   "source": [
    "# 2. Write a Python program to read the contents of a file and print each line.\n",
    "with open('new.txt', 'r') as f:\n",
    "    for line in f:\n",
    "        print(line, end='')"
   ]
  },
  {
   "cell_type": "code",
   "execution_count": 4,
   "id": "882c5a52",
   "metadata": {},
   "outputs": [
    {
     "name": "stdout",
     "output_type": "stream",
     "text": [
      "My name is Pritam\n"
     ]
    }
   ],
   "source": [
    "# 3.  How would you handle a case where the file doesn't exist while trying to open it for reading?\n",
    "try:\n",
    "    with open('new1.txt', 'r') as f:\n",
    "        for line in f:\n",
    "            print(line, end='')\n",
    "except FileNotFoundError:\n",
    "    print('File not found')\n",
    "except Exception as e:\n",
    "    print('An error occurred:', e)"
   ]
  },
  {
   "cell_type": "code",
   "execution_count": 5,
   "id": "f1fd5320",
   "metadata": {},
   "outputs": [],
   "source": [
    "# 4.  Write a Python script that reads from one file and writes its content to another file.txt\n",
    "with open('new.txt', 'r') as f:\n",
    "    with open('new1.txt', 'w') as f1:\n",
    "        for line in f:\n",
    "            f1.write(line)"
   ]
  },
  {
   "cell_type": "code",
   "execution_count": 6,
   "id": "6b099745",
   "metadata": {},
   "outputs": [
    {
     "name": "stdout",
     "output_type": "stream",
     "text": [
      "My name is Pritam\n"
     ]
    }
   ],
   "source": [
    "with open('new1.txt', 'r') as f:\n",
    "    for line in f:\n",
    "        print(line, end='')"
   ]
  },
  {
   "cell_type": "code",
   "execution_count": 7,
   "id": "99a5f481",
   "metadata": {},
   "outputs": [],
   "source": [
    "# 5. How would you catch and handle division by zero error in Python?\n",
    "def division(a, b):\n",
    "    try:\n",
    "        return a / b\n",
    "    except ZeroDivisionError:\n",
    "        return 'Division by zero is not allowed'\n",
    "    except Exception as e:\n",
    "        return 'An error occurred:', e"
   ]
  },
  {
   "cell_type": "code",
   "execution_count": 8,
   "id": "5e507841",
   "metadata": {},
   "outputs": [
    {
     "data": {
      "text/plain": [
       "'Division by zero is not allowed'"
      ]
     },
     "execution_count": 8,
     "metadata": {},
     "output_type": "execute_result"
    }
   ],
   "source": [
    "division(10, 0)"
   ]
  },
  {
   "cell_type": "code",
   "execution_count": 9,
   "id": "0ccb8fc7",
   "metadata": {},
   "outputs": [],
   "source": [
    "# 6.  Write a Python program that logs an error message to a log file when a division by zero exception occurs.\n",
    "import logging\n",
    "logging.basicConfig(filename='error.log', level=logging.ERROR) \n",
    "def division(a, b):\n",
    "    try:\n",
    "        return a / b\n",
    "    except ZeroDivisionError:\n",
    "        logging.error('Division by zero error occurred\\n') \n",
    "    except Exception as e:\n",
    "        logging.error('An error occurred:', e)"
   ]
  },
  {
   "cell_type": "code",
   "execution_count": 10,
   "id": "700a6b32",
   "metadata": {},
   "outputs": [],
   "source": [
    "division(10, 0)"
   ]
  },
  {
   "cell_type": "code",
   "execution_count": 11,
   "id": "a87e4f03",
   "metadata": {},
   "outputs": [],
   "source": [
    "# 7. How do you log information at different levels (INFO, ERROR, WARNING) in Python using the logging module?\n",
    "import logging\n",
    "logging.basicConfig(filename='error.log', level=logging.DEBUG, format='%(asctime)s - %(levelname)s - %(message)s')\n",
    "logging.info(\"This is my info msg\")\n",
    "logging.error(\"This is my error msg\")\n",
    "logging.warning(\"This is my warning msg\")\n",
    "logging.shutdown()   \n"
   ]
  },
  {
   "cell_type": "code",
   "execution_count": 12,
   "id": "9c7df189",
   "metadata": {},
   "outputs": [],
   "source": [
    "# 8.  Write a program to handle a file opening error using exception handling.\n",
    "try:\n",
    "    with open('new3.txt', 'r') as f:\n",
    "        for line in f:\n",
    "            print(line, end='')\n",
    "except FileNotFoundError:\n",
    "    logging.error('File not found')\n",
    "except Exception as e:      \n",
    "    logging.error('An error occurred:', e)"
   ]
  },
  {
   "cell_type": "code",
   "execution_count": 13,
   "id": "0b42d628",
   "metadata": {},
   "outputs": [
    {
     "name": "stdout",
     "output_type": "stream",
     "text": [
      "['My name is Pritam\\n']\n"
     ]
    }
   ],
   "source": [
    "# 9.  How can you read a file line by line and store its content in a list in Python?\n",
    "with open('new.txt', 'r') as f:\n",
    "    content = f.readlines()\n",
    "    print(content)"
   ]
  },
  {
   "cell_type": "code",
   "execution_count": 14,
   "id": "eacde2f8",
   "metadata": {},
   "outputs": [
    {
     "name": "stdout",
     "output_type": "stream",
     "text": [
      "['My name is Pritam\\n', 'I am a student\\n']\n"
     ]
    }
   ],
   "source": [
    "# 10.  How can you append data to an existing file in Python?\n",
    "with open('new.txt', 'a') as f:\n",
    "    f.write('I am a student\\n')\n",
    "with open('new.txt', 'r') as f:\n",
    "    content = f.readlines()\n",
    "    print(content)"
   ]
  },
  {
   "cell_type": "code",
   "execution_count": 15,
   "id": "bc448f23",
   "metadata": {},
   "outputs": [
    {
     "name": "stdout",
     "output_type": "stream",
     "text": [
      "Key not found\n"
     ]
    }
   ],
   "source": [
    "# 11.Write a Python program that uses a try-except block to handle an error when attempting to access a dictionary key that doesn't exist.\n",
    "my_dict = {'name': 'Pritam', 'age': 22}\n",
    "try:\n",
    "    print(my_dict['city'])  \n",
    "except KeyError:    \n",
    "    print('Key not found')\n",
    "except Exception as e:\n",
    "    print('An error occurred:', e)"
   ]
  },
  {
   "cell_type": "code",
   "execution_count": 16,
   "id": "11e313df",
   "metadata": {},
   "outputs": [],
   "source": [
    "# 12.  Write a program that demonstrates using multiple except blocks to handle different types of exceptions.\n",
    "def division(a, b):\n",
    "    try:\n",
    "        return a / b\n",
    "    except ZeroDivisionError:\n",
    "        print('Division by zero is not allowed')    \n",
    "    except TypeError:\n",
    "        print('Unsupported operation')\n",
    "    except  ValueError:\n",
    "        print('Invalid value')\n",
    "    except Exception as e:\n",
    "        print('An error occurred:', e)\n",
    "    finally:\n",
    "        print('Operation completed')"
   ]
  },
  {
   "cell_type": "code",
   "execution_count": 17,
   "id": "85ba21c0",
   "metadata": {},
   "outputs": [
    {
     "name": "stdout",
     "output_type": "stream",
     "text": [
      "Division by zero is not allowed\n",
      "Operation completed\n"
     ]
    }
   ],
   "source": [
    "division(10, 0)"
   ]
  },
  {
   "cell_type": "code",
   "execution_count": 18,
   "id": "550e1783",
   "metadata": {},
   "outputs": [
    {
     "name": "stdout",
     "output_type": "stream",
     "text": [
      "Unsupported operation\n",
      "Operation completed\n"
     ]
    }
   ],
   "source": [
    "division(10, \"0\")"
   ]
  },
  {
   "cell_type": "code",
   "execution_count": 19,
   "id": "fb32b68e",
   "metadata": {},
   "outputs": [
    {
     "name": "stdout",
     "output_type": "stream",
     "text": [
      "Operation completed\n"
     ]
    },
    {
     "data": {
      "text/plain": [
       "5.0"
      ]
     },
     "execution_count": 19,
     "metadata": {},
     "output_type": "execute_result"
    }
   ],
   "source": [
    "division(10, 2)"
   ]
  },
  {
   "cell_type": "code",
   "execution_count": 20,
   "id": "9d925314",
   "metadata": {},
   "outputs": [
    {
     "name": "stdout",
     "output_type": "stream",
     "text": [
      "My name is Pritam\n",
      "I am a student\n"
     ]
    }
   ],
   "source": [
    "# 13.  How would you check if a file exists before attempting to read it in Python?\n",
    "import os\n",
    "if os.path.exists('new.txt'):\n",
    "    with open('new.txt', 'r') as f:\n",
    "        for line in f:\n",
    "            print(line, end='')\n",
    "else:\n",
    "    print('File not found')"
   ]
  },
  {
   "cell_type": "code",
   "execution_count": 1,
   "id": "19d0dba1",
   "metadata": {},
   "outputs": [],
   "source": [
    "# 14.  Write a program that uses the logging module to log both informational and error messages.\n",
    "import logging\n",
    "logging.basicConfig(filename='test.log', level=logging.DEBUG, format='%(asctime)s - %(levelname)s - %(message)s')\n",
    "l = [1, \"hello\", [2, \"world\"],4, [ 3, \"python\"]]\n",
    "l1_int = []\n",
    "l2_str = []\n",
    "for i in l:\n",
    "    logging.info(f\"Processing each element of the list {i}\")\n",
    "    if type(i) == list:\n",
    "        for j in i:\n",
    "            logging.info(f\"Processing sublist element {j}\")\n",
    "            if type(j) == int:\n",
    "                l1_int.append(j)\n",
    "            else:    \n",
    "                l2_str.append(j)\n",
    "    elif type(i) == int:\n",
    "        l1_int.append(i)\n",
    "    else:\n",
    "        l2_str.append(i)\n",
    "logging.info(f\"The result is: {l1_int}, {l2_str}\")\n",
    "logging.shutdown()\n"
   ]
  },
  {
   "cell_type": "code",
   "execution_count": 2,
   "id": "f2b0bef5",
   "metadata": {},
   "outputs": [
    {
     "name": "stdout",
     "output_type": "stream",
     "text": [
      "File is empty\n"
     ]
    }
   ],
   "source": [
    "# 15. Write a Python program that prints the content of a file and handles the case when the file is empty.\n",
    "with open('file.txt', 'r') as f:\n",
    "    content = f.readlines()\n",
    "    if not content:\n",
    "        print('File is empty')\n",
    "    else:\n",
    "        print(content)"
   ]
  },
  {
   "cell_type": "code",
   "execution_count": 5,
   "id": "25868195",
   "metadata": {},
   "outputs": [
    {
     "name": "stdout",
     "output_type": "stream",
     "text": [
      "ERROR: Could not find file C:\\Users\\Pritam\\AppData\\Local\\Temp\\ipykernel_10668\\859749212.py\n"
     ]
    },
    {
     "data": {
      "text/plain": [
       "499999500000"
      ]
     },
     "execution_count": 5,
     "metadata": {},
     "output_type": "execute_result"
    }
   ],
   "source": [
    "# 16.  Demonstrate how to use memory profiling to check the memory usage of a small program.log\n",
    "from memory_profiler import profile\n",
    "import numpy as np\n",
    "\n",
    "from memory_profiler import profile\n",
    "\n",
    "@profile\n",
    "def my_function():\n",
    "    my_list = [i for i in range(1000000)]\n",
    "    return sum(my_list)\n",
    "\n",
    "my_function()"
   ]
  },
  {
   "cell_type": "code",
   "execution_count": 13,
   "id": "6ff1d5f7",
   "metadata": {},
   "outputs": [],
   "source": [
    "# 17. Write a Python program to create and write a list of numbers to a file, one number per line.\n",
    "numbers = list(range(1, 21))\n",
    "with open('numbers.txt', 'w') as f:\n",
    "    for number in numbers:\n",
    "        f.write(f'{number}\\n')  "
   ]
  },
  {
   "cell_type": "code",
   "execution_count": 16,
   "id": "b6a80527",
   "metadata": {},
   "outputs": [
    {
     "name": "stdout",
     "output_type": "stream",
     "text": [
      "1\n",
      "\n"
     ]
    }
   ],
   "source": [
    "with open('numbers.txt', 'r') as f:\n",
    "    content = f.readline()\n",
    "    print(content)"
   ]
  },
  {
   "cell_type": "code",
   "execution_count": 1,
   "id": "6df94415",
   "metadata": {},
   "outputs": [
    {
     "name": "stderr",
     "output_type": "stream",
     "text": [
      "INFO:root:This is a log message.\n"
     ]
    },
    {
     "name": "stdout",
     "output_type": "stream",
     "text": [
      "<function info at 0x0000016EBA805FC0>\n"
     ]
    }
   ],
   "source": [
    "# 18. How would you implement a basic logging setup that logs to a file with rotation after 1MB?\n",
    "import logging\n",
    "from logging.handlers import RotatingFileHandler\n",
    "\n",
    "logging.basicConfig(level=logging.INFO)\n",
    "\n",
    "handler = RotatingFileHandler('app.log', maxBytes=1024*1024, backupCount=5)\n",
    "logging.getLogger('').addHandler(handler)\n",
    "\n",
    "logging.info(\"This is a log message.\")\n",
    "print(logging.info)"
   ]
  },
  {
   "cell_type": "code",
   "execution_count": 13,
   "id": "55dbc195",
   "metadata": {},
   "outputs": [],
   "source": [
    "# 19. Write a program that handles both IndexError and KeyError using a try-except block.\n",
    "\n",
    "\n",
    "def handle_exceptions(x):\n",
    "    my_dict = {'name': 'Pritam', 'age': 22}\n",
    "    my_list = [1, 2, 3, 4, 5]\n",
    "    try:\n",
    "        if x == 1:\n",
    "            print(my_dict['city'])\n",
    "        elif x == 2:\n",
    "            print(my_list[5])\n",
    "\n",
    "    except KeyError:\n",
    "        print('Key not found')\n",
    "    except IndexError:\n",
    "        print('Index out of range')\n",
    "    except Exception as e:  \n",
    "        print('An error occurred:', e)"
   ]
  },
  {
   "cell_type": "code",
   "execution_count": 14,
   "id": "b3e640d2",
   "metadata": {},
   "outputs": [
    {
     "name": "stdout",
     "output_type": "stream",
     "text": [
      "Key not found\n"
     ]
    }
   ],
   "source": [
    "handle_exceptions(1)"
   ]
  },
  {
   "cell_type": "code",
   "execution_count": 15,
   "id": "7fb5835b",
   "metadata": {},
   "outputs": [
    {
     "name": "stdout",
     "output_type": "stream",
     "text": [
      "Index out of range\n"
     ]
    }
   ],
   "source": [
    "handle_exceptions(2)"
   ]
  },
  {
   "cell_type": "code",
   "execution_count": 16,
   "id": "030fdc20",
   "metadata": {},
   "outputs": [
    {
     "name": "stdout",
     "output_type": "stream",
     "text": [
      "My name is Pritam\n",
      "I am a student\n"
     ]
    }
   ],
   "source": [
    "# 20.  How would you open a file and read its contents using a context manager in Python?\n",
    "with open('new.txt', 'r') as f:\n",
    "    for line in f:\n",
    "        print(line, end='')"
   ]
  },
  {
   "cell_type": "code",
   "execution_count": 19,
   "id": "db4400f1",
   "metadata": {},
   "outputs": [
    {
     "name": "stdout",
     "output_type": "stream",
     "text": [
      "The word Student occurs 1 times\n",
      "['My name is Pritam\\n', 'I am a student\\n']\n"
     ]
    }
   ],
   "source": [
    "# 21.  Write a Python program that reads a file and prints the number of occurrences of a specific word.\n",
    "word = 'Student'\n",
    "count = 0\n",
    "with open('new.txt','r') as f:\n",
    "    for line in f:\n",
    "        if word.lower() in line.lower():\n",
    "            count += 1\n",
    "print(f'The word {word} occurs {count} times')\n",
    "\n",
    "with open('new.txt', 'r') as f:\n",
    "    content = f.readlines()\n",
    "    print(content)"
   ]
  },
  {
   "cell_type": "code",
   "execution_count": 20,
   "id": "60faa644",
   "metadata": {},
   "outputs": [
    {
     "name": "stdout",
     "output_type": "stream",
     "text": [
      "File is empty\n"
     ]
    }
   ],
   "source": [
    "# 22. How can you check if a file is empty before attempting to read its contents?\n",
    "with open('file.txt', 'r') as f:\n",
    "    content = f.readlines()\n",
    "    if not content:\n",
    "        print('File is empty')\n",
    "    else:\n",
    "        print(content)"
   ]
  },
  {
   "cell_type": "code",
   "execution_count": 3,
   "id": "2be40dba",
   "metadata": {},
   "outputs": [],
   "source": [
    "# 23. Write a Python program that writes to a log file when an error occurs during file handling.\n",
    "import logging\n",
    "logging.basicConfig(filename='file_error.log', level=logging.ERROR)\n",
    "try:\n",
    "    with open('xyx.txt', 'r') as f:\n",
    "        for line in f:\n",
    "            print(line, end='')\n",
    "except FileNotFoundError:\n",
    "    logging.error('File not found')\n",
    "except Exception as e:\n",
    "    logging.error(f\"Some error: \", {e})\n",
    "else:\n",
    "    logging.info('File read successfully')"
   ]
  },
  {
   "cell_type": "code",
   "execution_count": null,
   "id": "b0974799",
   "metadata": {},
   "outputs": [],
   "source": []
  }
 ],
 "metadata": {
  "kernelspec": {
   "display_name": "Python 3",
   "language": "python",
   "name": "python3"
  },
  "language_info": {
   "codemirror_mode": {
    "name": "ipython",
    "version": 3
   },
   "file_extension": ".py",
   "mimetype": "text/x-python",
   "name": "python",
   "nbconvert_exporter": "python",
   "pygments_lexer": "ipython3",
   "version": "3.10.0"
  }
 },
 "nbformat": 4,
 "nbformat_minor": 5
}
